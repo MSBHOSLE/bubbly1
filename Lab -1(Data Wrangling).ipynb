{
 "cells": [
  {
   "cell_type": "code",
   "execution_count": 1,
   "id": "13d961a9",
   "metadata": {},
   "outputs": [
    {
     "ename": "ModuleNotFoundError",
     "evalue": "No module named 'pandas'",
     "output_type": "error",
     "traceback": [
      "\u001b[0;31m---------------------------------------------------------------------------\u001b[0m",
      "\u001b[0;31mModuleNotFoundError\u001b[0m                       Traceback (most recent call last)",
      "Cell \u001b[0;32mIn[1], line 1\u001b[0m\n\u001b[0;32m----> 1\u001b[0m \u001b[38;5;28;01mimport\u001b[39;00m \u001b[38;5;21;01mpandas\u001b[39;00m \u001b[38;5;28;01mas\u001b[39;00m \u001b[38;5;21;01mpd\u001b[39;00m\n",
      "\u001b[0;31mModuleNotFoundError\u001b[0m: No module named 'pandas'"
     ]
    }
   ],
   "source": [
    "\n",
    "import pandas as pd\n"
   ]
  },
  {
   "cell_type": "code",
   "execution_count": null,
   "id": "367c96ff",
   "metadata": {},
   "outputs": [],
   "source": [
    "# Assign data\n",
    "data = {'Name': ['Jai', 'Princi', 'Gaurav',\n",
    "'Anuj', 'Ravi', 'Natasha', 'Riya'],\n",
    "'Age': [17, 17, 18, 17, 18, 17, 17],\n",
    "'Gender': ['M', 'F', 'M', 'M', 'M', 'F', 'F'],\n",
    "'Marks': [90, 76, 'NaN', 74, 65, 'NaN', 71]}"
   ]
  },
  {
   "cell_type": "code",
   "execution_count": null,
   "id": "5163b821",
   "metadata": {},
   "outputs": [],
   "source": [
    "# Convert into DataFrame\n",
    "df = pd.DataFrame(data)"
   ]
  },
  {
   "cell_type": "code",
   "execution_count": null,
   "id": "05a668cd",
   "metadata": {},
   "outputs": [],
   "source": [
    "# Display data\n",
    "df"
   ]
  },
  {
   "cell_type": "code",
   "execution_count": null,
   "id": "1928e05d",
   "metadata": {},
   "outputs": [],
   "source": [
    "# Compute average\n",
    "c = avg = 0\n",
    "for ele in df['Marks']:\n",
    "    if str(ele).isnumeric():\n",
    "        c += 1\n",
    "        avg += ele\n",
    "        avg /= c\n",
    "\n",
    "# Replace missing values\n",
    "df = df.replace(to_replace=\"NaN\",value=avg)"
   ]
  },
  {
   "cell_type": "code",
   "execution_count": null,
   "id": "94dc045c",
   "metadata": {},
   "outputs": [],
   "source": [
    "# Display data\n",
    "df"
   ]
  },
  {
   "cell_type": "code",
   "execution_count": null,
   "id": "81a00b5c",
   "metadata": {},
   "outputs": [],
   "source": [
    "# Categorize gender\n",
    "df['Gender'] = df['Gender'].map({'M': 0,'F': 1, }).astype(float)\n",
    "# Display data\n",
    "df"
   ]
  },
  {
   "cell_type": "code",
   "execution_count": null,
   "id": "1dc88b24",
   "metadata": {},
   "outputs": [],
   "source": [
    "# Filter top scoring students\n",
    "df = df[df['Marks'] >= 75]\n",
    "# Remove age row\n",
    "df = df.drop(['Age'], axis=1)\n",
    "# Display data\n",
    "df"
   ]
  },
  {
   "cell_type": "code",
   "execution_count": null,
   "id": "c2e82bba",
   "metadata": {},
   "outputs": [],
   "source": [
    "# Wrangling Data Using Merge Operation:\n",
    "details = pd.DataFrame({\n",
    "'ID': [101, 102, 103, 104, 105, 106,\n",
    "107, 108, 109, 110],\n",
    "'NAME': ['Jagroop', 'Praveen', 'Harjot',\n",
    "'Pooja', 'Rahul', 'Nikita',\n",
    "'Saurabh', 'Ayush', 'Dolly', \"Mohit\"],\n",
    "'BRANCH': ['CSE', 'CSE', 'CSE', 'CSE', 'CSE',\n",
    "'CSE', 'CSE', 'CSE', 'CSE', 'CSE']})\n",
    "\n",
    "# printing details\n",
    "print(details)"
   ]
  },
  {
   "cell_type": "code",
   "execution_count": null,
   "id": "14c04450",
   "metadata": {},
   "outputs": [],
   "source": [
    "fees_status = pd.DataFrame(\n",
    "{'ID': [101, 102, 103, 104, 105,\n",
    "106, 107, 108, 109, 110],\n",
    "'PENDING': ['5000', '250', 'NIL',\n",
    "'9000', '15000', 'NIL',\n",
    "'4500', '1800', '250', 'NIL']})\n",
    "# Printing fees_status\n",
    "print(fees_status)"
   ]
  },
  {
   "cell_type": "code",
   "execution_count": 25,
   "id": "392247cb",
   "metadata": {},
   "outputs": [
    {
     "name": "stdout",
     "output_type": "stream",
     "text": [
      "    ID     NAME BRANCH PENDING\n",
      "0  101  Jagroop    CSE    5000\n",
      "1  102  Praveen    CSE     250\n",
      "2  103   Harjot    CSE     NIL\n",
      "3  104    Pooja    CSE    9000\n",
      "4  105    Rahul    CSE   15000\n",
      "5  106   Nikita    CSE     NIL\n",
      "6  107  Saurabh    CSE    4500\n",
      "7  108    Ayush    CSE    1800\n",
      "8  109    Dolly    CSE     250\n",
      "9  110    Mohit    CSE     NIL\n"
     ]
    }
   ],
   "source": [
    "# Creating Dataframe\n",
    "details = pd.DataFrame({\n",
    "'ID': [101, 102, 103, 104, 105,\n",
    "106, 107, 108, 109, 110],\n",
    "'NAME': ['Jagroop', 'Praveen', 'Harjot',\n",
    "'Pooja', 'Rahul', 'Nikita',\n",
    "'Saurabh', 'Ayush', 'Dolly', \"Mohit\"],\n",
    "'BRANCH': ['CSE', 'CSE', 'CSE', 'CSE', 'CSE',\n",
    "'CSE', 'CSE', 'CSE', 'CSE', 'CSE']})\n",
    "# Creating Dataframe\n",
    "fees_status = pd.DataFrame(\n",
    "{'ID': [101, 102, 103, 104, 105,\n",
    "106, 107, 108, 109, 110],\n",
    "'PENDING': ['5000', '250', 'NIL',\n",
    "'9000', '15000', 'NIL',\n",
    "'4500', '1800', '250', 'NIL']})\n",
    "# Merging Dataframe\n",
    "print(pd.merge(details, fees_status, on='ID'))"
   ]
  },
  {
   "cell_type": "code",
   "execution_count": 26,
   "id": "5adf274a",
   "metadata": {},
   "outputs": [
    {
     "name": "stdout",
     "output_type": "stream",
     "text": [
      "       Brand  Year  Sold\n",
      "0     Maruti  2010     6\n",
      "1     Maruti  2011     7\n",
      "2     Maruti  2009     9\n",
      "3     Maruti  2013     8\n",
      "4    Hyundai  2010     3\n",
      "5    Hyundai  2011     5\n",
      "6     Toyota  2011     2\n",
      "7   Mahindra  2010     8\n",
      "8   Mahindra  2013     7\n",
      "9       Ford  2010     2\n",
      "10    Toyota  2010     4\n",
      "11      Ford  2011     2\n"
     ]
    }
   ],
   "source": [
    "# Wrangling Data using Grouping Method:\n",
    "car_selling_data = {'Brand': ['Maruti', 'Maruti', 'Maruti',\n",
    "'Maruti', 'Hyundai', 'Hyundai',\n",
    "'Toyota', 'Mahindra', 'Mahindra',\n",
    "'Ford', 'Toyota', 'Ford'],\n",
    "'Year': [2010, 2011, 2009, 2013,\n",
    "2010, 2011, 2011, 2010,\n",
    "2013, 2010, 2010, 2011],\n",
    "'Sold': [6, 7, 9, 8, 3, 5,\n",
    "2, 8, 7, 2, 4, 2]}\n",
    "# Creating Dataframe of car_selling_data\n",
    "df = pd.DataFrame(car_selling_data)\n",
    "# printing Dataframe\n",
    "print(df)\n"
   ]
  },
  {
   "cell_type": "code",
   "execution_count": 27,
   "id": "dae35827",
   "metadata": {},
   "outputs": [
    {
     "name": "stdout",
     "output_type": "stream",
     "text": [
      "       Brand  Year  Sold\n",
      "0     Maruti  2010     6\n",
      "4    Hyundai  2010     3\n",
      "7   Mahindra  2010     8\n",
      "9       Ford  2010     2\n",
      "10    Toyota  2010     4\n"
     ]
    }
   ],
   "source": [
    "# Group the data when year = 2010\n",
    "grouped = df.groupby('Year')\n",
    "print(grouped.get_group(2010))"
   ]
  },
  {
   "cell_type": "code",
   "execution_count": 28,
   "id": "7c4c9346",
   "metadata": {},
   "outputs": [
    {
     "name": "stdout",
     "output_type": "stream",
     "text": [
      "        Name  Roll_no                 Email\n",
      "0       Amit       23        xxxx@gmail.com\n",
      "1    Praveen       54      xxxxxx@gmail.com\n",
      "2    Jagroop       29      xxxxxx@gmail.com\n",
      "3      Rahul       36          xx@gmail.com\n",
      "4     Vishal       59        xxxx@gmail.com\n",
      "5      Suraj       38       xxxxx@gmail.com\n",
      "6     Rishab       12       xxxxx@gmail.com\n",
      "7   Satyapal       45       xxxxx@gmail.com\n",
      "8       Amit       34       xxxxx@gmail.com\n",
      "9      Rahul       36      xxxxxx@gmail.com\n",
      "10   Praveen       54  xxxxxxxxxx@gmail.com\n",
      "11      Amit       23  xxxxxxxxxx@gmail.com\n"
     ]
    }
   ],
   "source": [
    "# Wrangling data by removing Duplication:\n",
    "student_data = {'Name': ['Amit', 'Praveen', 'Jagroop',\n",
    "'Rahul', 'Vishal', 'Suraj',\n",
    "'Rishab', 'Satyapal', 'Amit',\n",
    "'Rahul', 'Praveen', 'Amit'],\n",
    "'Roll_no': [23, 54, 29, 36, 59, 38,\n",
    "12, 45, 34, 36, 54, 23],\n",
    "'Email': ['xxxx@gmail.com', 'xxxxxx@gmail.com',\n",
    "'xxxxxx@gmail.com', 'xx@gmail.com',\n",
    "'xxxx@gmail.com', 'xxxxx@gmail.com',\n",
    "'xxxxx@gmail.com', 'xxxxx@gmail.com',\n",
    "'xxxxx@gmail.com', 'xxxxxx@gmail.com',\n",
    "'xxxxxxxxxx@gmail.com', 'xxxxxxxxxx@gmail.com']}\n",
    "# Creating Dataframe of Data\n",
    "df = pd.DataFrame(student_data)\n",
    "# Printing Dataframe\n",
    "print(df)\n"
   ]
  },
  {
   "cell_type": "code",
   "execution_count": 29,
   "id": "18c07ead",
   "metadata": {},
   "outputs": [
    {
     "name": "stdout",
     "output_type": "stream",
     "text": [
      "       Name  Roll_no             Email\n",
      "0      Amit       23    xxxx@gmail.com\n",
      "1   Praveen       54  xxxxxx@gmail.com\n",
      "2   Jagroop       29  xxxxxx@gmail.com\n",
      "3     Rahul       36      xx@gmail.com\n",
      "4    Vishal       59    xxxx@gmail.com\n",
      "5     Suraj       38   xxxxx@gmail.com\n",
      "6    Rishab       12   xxxxx@gmail.com\n",
      "7  Satyapal       45   xxxxx@gmail.com\n",
      "8      Amit       34   xxxxx@gmail.com\n"
     ]
    }
   ],
   "source": [
    "# Here df.duplicated() list duplicate Entries in ROllno.\n",
    "# So that ~(NOT) is placed in order to get non duplicate values.\n",
    "non_duplicate = df[~df.duplicated('Roll_no')]\n",
    "# printing non-duplicate values\n",
    "print(non_duplicate)"
   ]
  },
  {
   "cell_type": "code",
   "execution_count": null,
   "id": "28c1933e",
   "metadata": {},
   "outputs": [],
   "source": []
  }
 ],
 "metadata": {
  "kernelspec": {
   "display_name": "Python 3 (ipykernel)",
   "language": "python",
   "name": "python3"
  },
  "language_info": {
   "codemirror_mode": {
    "name": "ipython",
    "version": 3
   },
   "file_extension": ".py",
   "mimetype": "text/x-python",
   "name": "python",
   "nbconvert_exporter": "python",
   "pygments_lexer": "ipython3",
   "version": "3.11.3"
  }
 },
 "nbformat": 4,
 "nbformat_minor": 5
}
